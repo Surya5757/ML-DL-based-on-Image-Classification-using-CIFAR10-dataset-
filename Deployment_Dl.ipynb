{
 "cells": [
  {
   "cell_type": "markdown",
   "metadata": {},
   "source": [
    "## Use google colab for faster results.\n",
    "### - Following few sections are from google colab"
   ]
  },
  {
   "cell_type": "code",
   "execution_count": null,
   "metadata": {
    "colab": {
     "base_uri": "https://localhost:8080/"
    },
    "id": "DzUdXW-bliiu",
    "outputId": "b230bb4c-73f3-445d-e685-a9068601ce6d"
   },
   "outputs": [
    {
     "name": "stdout",
     "output_type": "stream",
     "text": [
      "Mounted at /content/drive\n"
     ]
    }
   ],
   "source": [
    "from google.colab import drive\n",
    "drive.mount('/content/drive')"
   ]
  },
  {
   "cell_type": "markdown",
   "metadata": {
    "id": "6yNZ5k9QlkVG"
   },
   "source": [
    "# New Section"
   ]
  },
  {
   "cell_type": "code",
   "execution_count": null,
   "metadata": {
    "id": "-o0JRXt3rhRU"
   },
   "outputs": [],
   "source": [
    "!pip install tensorflow-gpu"
   ]
  },
  {
   "cell_type": "code",
   "execution_count": null,
   "metadata": {
    "colab": {
     "base_uri": "https://localhost:8080/"
    },
    "id": "UkYFDsBDri-7",
    "outputId": "6f5d85c7-4276-420d-cb15-c3ada40db356"
   },
   "outputs": [
    {
     "name": "stdout",
     "output_type": "stream",
     "text": [
      "Fri Jun 11 04:07:34 2021       \n",
      "+-----------------------------------------------------------------------------+\n",
      "| NVIDIA-SMI 465.27       Driver Version: 460.32.03    CUDA Version: 11.2     |\n",
      "|-------------------------------+----------------------+----------------------+\n",
      "| GPU  Name        Persistence-M| Bus-Id        Disp.A | Volatile Uncorr. ECC |\n",
      "| Fan  Temp  Perf  Pwr:Usage/Cap|         Memory-Usage | GPU-Util  Compute M. |\n",
      "|                               |                      |               MIG M. |\n",
      "|===============================+======================+======================|\n",
      "|   0  Tesla T4            Off  | 00000000:00:04.0 Off |                    0 |\n",
      "| N/A   70C    P8    10W /  70W |      0MiB / 15109MiB |      0%      Default |\n",
      "|                               |                      |                  N/A |\n",
      "+-------------------------------+----------------------+----------------------+\n",
      "                                                                               \n",
      "+-----------------------------------------------------------------------------+\n",
      "| Processes:                                                                  |\n",
      "|  GPU   GI   CI        PID   Type   Process name                  GPU Memory |\n",
      "|        ID   ID                                                   Usage      |\n",
      "|=============================================================================|\n",
      "|  No running processes found                                                 |\n",
      "+-----------------------------------------------------------------------------+\n"
     ]
    }
   ],
   "source": [
    "!nvidia-smi"
   ]
  },
  {
   "cell_type": "markdown",
   "metadata": {},
   "source": [
    "# Code Starts from here"
   ]
  },
  {
   "cell_type": "code",
   "execution_count": null,
   "metadata": {
    "id": "rOYOrZSnYCwc"
   },
   "outputs": [],
   "source": [
    "import numpy as np\n",
    "import matplotlib.pyplot as plt\n",
    "from tensorflow.keras.layers import Input, Conv2D, Dense, Flatten, Dropout, GlobalMaxPooling2D, MaxPooling2D, BatchNormalization\n",
    "from tensorflow.keras.models import Model"
   ]
  },
  {
   "cell_type": "code",
   "execution_count": null,
   "metadata": {
    "colab": {
     "base_uri": "https://localhost:8080/"
    },
    "id": "Ru1XM4VeYNda",
    "outputId": "89f59732-777f-45da-d7e5-c716bf02df13"
   },
   "outputs": [
    {
     "name": "stdout",
     "output_type": "stream",
     "text": [
      "2.5.0\n"
     ]
    }
   ],
   "source": [
    "import tensorflow as tf\n",
    "print(tf.__version__)"
   ]
  },
  {
   "cell_type": "code",
   "execution_count": null,
   "metadata": {
    "id": "7wllNWYfYCzs"
   },
   "outputs": [],
   "source": [
    "cifar10 = tf.keras.datasets.cifar10\n",
    "(x_train, y_train), (x_test, y_test) = cifar10.load_data()\n",
    "\n",
    "#Split them into train & test\n",
    "x_train, x_test = x_train / 255.0, x_test / 255.0\n",
    "y_train, y_test = y_train.flatten(), y_test.flatten()"
   ]
  },
  {
   "cell_type": "code",
   "execution_count": null,
   "metadata": {
    "colab": {
     "base_uri": "https://localhost:8080/"
    },
    "id": "0RnwLDtIYOSK",
    "outputId": "74c3acf6-1f39-4abe-8bc2-d553eb125e5d"
   },
   "outputs": [
    {
     "name": "stdout",
     "output_type": "stream",
     "text": [
      "x_train.shape: (50000, 32, 32, 3)\n",
      "y_train.shape (50000,)\n"
     ]
    }
   ],
   "source": [
    "print(\"x_train.shape:\", x_train.shape)\n",
    "print(\"y_train.shape\", y_train.shape)\n"
   ]
  },
  {
   "cell_type": "code",
   "execution_count": null,
   "metadata": {
    "colab": {
     "base_uri": "https://localhost:8080/"
    },
    "id": "slTE9j_RYo6j",
    "outputId": "f937b0ec-b847-4616-bea9-89dfb36c4b4e"
   },
   "outputs": [
    {
     "name": "stdout",
     "output_type": "stream",
     "text": [
      "number of classes: 10\n"
     ]
    }
   ],
   "source": [
    "# number of classes\n",
    "K = len(set(y_train))\n",
    "print(\"number of classes:\", K)"
   ]
  },
  {
   "cell_type": "code",
   "execution_count": null,
   "metadata": {
    "id": "x9PbLKveYS88"
   },
   "outputs": [],
   "source": [
    "i = Input(shape=x_train[0].shape)\n",
    "\n",
    "x = Conv2D(32, (3, 3), activation='relu', padding='same')(i)\n",
    "x = BatchNormalization()(x)\n",
    "x = Conv2D(32, (3, 3), activation='relu', padding='same')(x)\n",
    "x = BatchNormalization()(x)\n",
    "x = MaxPooling2D((2, 2))(x)\n",
    "\n",
    "x = Conv2D(64, (3, 3), activation='relu', padding='same')(x)\n",
    "x = BatchNormalization()(x)\n",
    "x = Conv2D(64, (3, 3), activation='relu', padding='same')(x)\n",
    "x = BatchNormalization()(x)\n",
    "x = MaxPooling2D((2, 2))(x)\n",
    "\n",
    "x = Conv2D(128, (3, 3), activation='relu', padding='same')(x)\n",
    "x = BatchNormalization()(x)\n",
    "x = Conv2D(128, (3, 3), activation='relu', padding='same')(x)\n",
    "x = BatchNormalization()(x)\n",
    "x = MaxPooling2D((2, 2))(x)\n",
    "\n",
    "x = Flatten()(x)\n",
    "x = Dropout(0.2)(x)\n",
    "x = Dense(1024, activation='relu')(x)\n",
    "x = Dropout(0.2)(x)\n",
    "x = Dense(K, activation='softmax')(x)\n",
    "\n",
    "model = Model(i, x)"
   ]
  },
  {
   "cell_type": "code",
   "execution_count": null,
   "metadata": {
    "id": "6PvcJXQvYYzl"
   },
   "outputs": [],
   "source": [
    "# Note: make sure you are using the GPU for this.\n",
    "model.compile(optimizer='adam',\n",
    "              loss='sparse_categorical_crossentropy',\n",
    "              metrics=['accuracy'])"
   ]
  },
  {
   "cell_type": "code",
   "execution_count": null,
   "metadata": {
    "colab": {
     "base_uri": "https://localhost:8080/"
    },
    "id": "AGqmwSM6YsOh",
    "outputId": "973c14a2-55f6-44f2-c45f-2b5cc97be55e"
   },
   "outputs": [
    {
     "name": "stdout",
     "output_type": "stream",
     "text": [
      "Epoch 1/50\n",
      "1563/1563 [==============================] - 14s 7ms/step - loss: 1.3192 - accuracy: 0.5424 - val_loss: 1.1104 - val_accuracy: 0.6225\n",
      "Epoch 2/50\n",
      "1563/1563 [==============================] - 10s 6ms/step - loss: 0.8468 - accuracy: 0.7050 - val_loss: 0.7686 - val_accuracy: 0.7412\n",
      "Epoch 3/50\n",
      "1563/1563 [==============================] - 10s 6ms/step - loss: 0.6922 - accuracy: 0.7642 - val_loss: 0.7108 - val_accuracy: 0.7580\n",
      "Epoch 4/50\n",
      "1563/1563 [==============================] - 10s 7ms/step - loss: 0.5826 - accuracy: 0.8028 - val_loss: 0.6817 - val_accuracy: 0.7671\n",
      "Epoch 5/50\n",
      "1563/1563 [==============================] - 10s 7ms/step - loss: 0.4908 - accuracy: 0.8326 - val_loss: 0.5963 - val_accuracy: 0.8088\n",
      "Epoch 6/50\n",
      "1563/1563 [==============================] - 10s 6ms/step - loss: 0.4189 - accuracy: 0.8548 - val_loss: 0.6001 - val_accuracy: 0.8097\n",
      "Epoch 7/50\n",
      "1563/1563 [==============================] - 10s 7ms/step - loss: 0.3565 - accuracy: 0.8758 - val_loss: 0.6324 - val_accuracy: 0.8020\n",
      "Epoch 8/50\n",
      "1563/1563 [==============================] - 10s 7ms/step - loss: 0.3029 - accuracy: 0.8952 - val_loss: 0.7110 - val_accuracy: 0.7991\n",
      "Epoch 9/50\n",
      "1563/1563 [==============================] - 10s 7ms/step - loss: 0.2643 - accuracy: 0.9087 - val_loss: 0.7029 - val_accuracy: 0.8093\n",
      "Epoch 10/50\n",
      "1563/1563 [==============================] - 10s 7ms/step - loss: 0.2235 - accuracy: 0.9227 - val_loss: 0.6584 - val_accuracy: 0.8250\n",
      "Epoch 11/50\n",
      "1563/1563 [==============================] - 10s 6ms/step - loss: 0.1935 - accuracy: 0.9335 - val_loss: 0.6075 - val_accuracy: 0.8246\n",
      "Epoch 12/50\n",
      "1563/1563 [==============================] - 10s 6ms/step - loss: 0.1777 - accuracy: 0.9396 - val_loss: 0.7228 - val_accuracy: 0.8117\n",
      "Epoch 13/50\n",
      "1563/1563 [==============================] - 10s 7ms/step - loss: 0.1550 - accuracy: 0.9479 - val_loss: 0.7301 - val_accuracy: 0.8108\n",
      "Epoch 14/50\n",
      "1563/1563 [==============================] - 10s 6ms/step - loss: 0.1449 - accuracy: 0.9513 - val_loss: 0.7258 - val_accuracy: 0.8246\n",
      "Epoch 15/50\n",
      "1563/1563 [==============================] - 10s 7ms/step - loss: 0.1243 - accuracy: 0.9569 - val_loss: 0.7226 - val_accuracy: 0.8266\n",
      "Epoch 16/50\n",
      "1563/1563 [==============================] - 10s 6ms/step - loss: 0.1272 - accuracy: 0.9574 - val_loss: 0.7016 - val_accuracy: 0.8360\n",
      "Epoch 17/50\n",
      "1563/1563 [==============================] - 10s 6ms/step - loss: 0.1142 - accuracy: 0.9622 - val_loss: 0.7188 - val_accuracy: 0.8306\n",
      "Epoch 18/50\n",
      "1563/1563 [==============================] - 10s 7ms/step - loss: 0.1097 - accuracy: 0.9636 - val_loss: 0.7415 - val_accuracy: 0.8319\n",
      "Epoch 19/50\n",
      "1563/1563 [==============================] - 10s 6ms/step - loss: 0.1034 - accuracy: 0.9651 - val_loss: 0.6933 - val_accuracy: 0.8276\n",
      "Epoch 20/50\n",
      "1563/1563 [==============================] - 10s 7ms/step - loss: 0.0973 - accuracy: 0.9674 - val_loss: 0.7483 - val_accuracy: 0.8324\n",
      "Epoch 21/50\n",
      "1563/1563 [==============================] - 10s 6ms/step - loss: 0.0935 - accuracy: 0.9687 - val_loss: 0.8508 - val_accuracy: 0.8300\n",
      "Epoch 22/50\n",
      "1563/1563 [==============================] - 10s 7ms/step - loss: 0.0852 - accuracy: 0.9710 - val_loss: 0.7564 - val_accuracy: 0.8358\n",
      "Epoch 23/50\n",
      "1563/1563 [==============================] - 10s 6ms/step - loss: 0.0856 - accuracy: 0.9721 - val_loss: 0.8132 - val_accuracy: 0.8274\n",
      "Epoch 24/50\n",
      "1563/1563 [==============================] - 10s 6ms/step - loss: 0.0760 - accuracy: 0.9751 - val_loss: 0.7657 - val_accuracy: 0.8380\n",
      "Epoch 25/50\n",
      "1563/1563 [==============================] - 10s 6ms/step - loss: 0.0773 - accuracy: 0.9750 - val_loss: 0.8031 - val_accuracy: 0.8330\n",
      "Epoch 26/50\n",
      "1563/1563 [==============================] - 10s 7ms/step - loss: 0.0737 - accuracy: 0.9751 - val_loss: 0.7477 - val_accuracy: 0.8361\n",
      "Epoch 27/50\n",
      "1563/1563 [==============================] - 10s 7ms/step - loss: 0.0760 - accuracy: 0.9753 - val_loss: 0.7673 - val_accuracy: 0.8288\n",
      "Epoch 28/50\n",
      "1563/1563 [==============================] - 10s 7ms/step - loss: 0.0691 - accuracy: 0.9777 - val_loss: 0.8167 - val_accuracy: 0.8372\n",
      "Epoch 29/50\n",
      "1563/1563 [==============================] - 10s 6ms/step - loss: 0.0678 - accuracy: 0.9776 - val_loss: 0.7451 - val_accuracy: 0.8378\n",
      "Epoch 30/50\n",
      "1563/1563 [==============================] - 10s 6ms/step - loss: 0.0591 - accuracy: 0.9804 - val_loss: 0.8812 - val_accuracy: 0.8375\n",
      "Epoch 31/50\n",
      "1563/1563 [==============================] - 10s 7ms/step - loss: 0.0604 - accuracy: 0.9802 - val_loss: 0.8337 - val_accuracy: 0.8269\n",
      "Epoch 32/50\n",
      "1563/1563 [==============================] - 10s 6ms/step - loss: 0.0614 - accuracy: 0.9799 - val_loss: 0.8253 - val_accuracy: 0.8378\n",
      "Epoch 33/50\n",
      "1563/1563 [==============================] - 10s 6ms/step - loss: 0.0595 - accuracy: 0.9805 - val_loss: 0.8377 - val_accuracy: 0.8375\n",
      "Epoch 34/50\n",
      "1563/1563 [==============================] - 10s 7ms/step - loss: 0.0570 - accuracy: 0.9813 - val_loss: 0.7941 - val_accuracy: 0.8330\n",
      "Epoch 35/50\n",
      "1563/1563 [==============================] - 10s 7ms/step - loss: 0.0494 - accuracy: 0.9832 - val_loss: 0.8765 - val_accuracy: 0.8389\n",
      "Epoch 36/50\n",
      "1563/1563 [==============================] - 10s 6ms/step - loss: 0.0501 - accuracy: 0.9838 - val_loss: 0.8273 - val_accuracy: 0.8309\n",
      "Epoch 37/50\n",
      "1563/1563 [==============================] - 10s 7ms/step - loss: 0.0561 - accuracy: 0.9813 - val_loss: 0.8722 - val_accuracy: 0.8378\n",
      "Epoch 38/50\n",
      "1563/1563 [==============================] - 10s 7ms/step - loss: 0.0501 - accuracy: 0.9838 - val_loss: 0.8646 - val_accuracy: 0.8339\n",
      "Epoch 39/50\n",
      "1563/1563 [==============================] - 10s 6ms/step - loss: 0.0535 - accuracy: 0.9828 - val_loss: 0.8609 - val_accuracy: 0.8385\n",
      "Epoch 40/50\n",
      "1563/1563 [==============================] - 10s 6ms/step - loss: 0.0452 - accuracy: 0.9855 - val_loss: 0.8475 - val_accuracy: 0.8411\n",
      "Epoch 41/50\n",
      "1563/1563 [==============================] - 10s 7ms/step - loss: 0.0527 - accuracy: 0.9832 - val_loss: 0.9593 - val_accuracy: 0.8301\n",
      "Epoch 42/50\n",
      "1563/1563 [==============================] - 10s 6ms/step - loss: 0.0506 - accuracy: 0.9841 - val_loss: 0.8142 - val_accuracy: 0.8423\n",
      "Epoch 43/50\n",
      "1563/1563 [==============================] - 10s 6ms/step - loss: 0.0439 - accuracy: 0.9856 - val_loss: 0.9169 - val_accuracy: 0.8450\n",
      "Epoch 44/50\n",
      "1563/1563 [==============================] - 10s 6ms/step - loss: 0.0433 - accuracy: 0.9862 - val_loss: 0.9088 - val_accuracy: 0.8435\n",
      "Epoch 45/50\n",
      "1563/1563 [==============================] - 10s 7ms/step - loss: 0.0465 - accuracy: 0.9854 - val_loss: 0.8643 - val_accuracy: 0.8402\n",
      "Epoch 46/50\n",
      "1563/1563 [==============================] - 10s 6ms/step - loss: 0.0422 - accuracy: 0.9862 - val_loss: 0.9074 - val_accuracy: 0.8483\n",
      "Epoch 47/50\n",
      "1563/1563 [==============================] - 10s 6ms/step - loss: 0.0400 - accuracy: 0.9863 - val_loss: 0.8989 - val_accuracy: 0.8420\n",
      "Epoch 48/50\n",
      "1563/1563 [==============================] - 10s 6ms/step - loss: 0.0451 - accuracy: 0.9856 - val_loss: 0.8062 - val_accuracy: 0.8387\n",
      "Epoch 49/50\n",
      "1563/1563 [==============================] - 10s 7ms/step - loss: 0.0430 - accuracy: 0.9866 - val_loss: 0.9344 - val_accuracy: 0.8441\n",
      "Epoch 50/50\n",
      "1563/1563 [==============================] - 10s 6ms/step - loss: 0.0418 - accuracy: 0.9865 - val_loss: 0.8936 - val_accuracy: 0.8399\n"
     ]
    }
   ],
   "source": [
    "r = model.fit(x_train, y_train, validation_data=(x_test, y_test), epochs=50)"
   ]
  },
  {
   "cell_type": "markdown",
   "metadata": {
    "id": "L7FxiCeRY0ex"
   },
   "source": [
    "Retrain data with augmentation\n",
    "\n",
    "Note: if you run this AFTER calling the previous model.fit(), it will CONTINUE training where it left off."
   ]
  },
  {
   "cell_type": "code",
   "execution_count": null,
   "metadata": {
    "colab": {
     "base_uri": "https://localhost:8080/"
    },
    "id": "QUzrdwAHY8s4",
    "outputId": "52cd4776-ee5e-479a-f4d2-2a94aa9ff703"
   },
   "outputs": [
    {
     "name": "stderr",
     "output_type": "stream",
     "text": [
      "/usr/local/lib/python3.7/dist-packages/tensorflow/python/keras/engine/training.py:1940: UserWarning: `Model.fit_generator` is deprecated and will be removed in a future version. Please use `Model.fit`, which supports generators.\n",
      "  warnings.warn('`Model.fit_generator` is deprecated and '\n"
     ]
    },
    {
     "name": "stdout",
     "output_type": "stream",
     "text": [
      "Epoch 1/50\n",
      "1562/1562 [==============================] - 28s 18ms/step - loss: 0.5490 - accuracy: 0.8262 - val_loss: 0.5002 - val_accuracy: 0.8378\n",
      "Epoch 2/50\n",
      "1562/1562 [==============================] - 27s 17ms/step - loss: 0.4344 - accuracy: 0.8563 - val_loss: 0.4931 - val_accuracy: 0.8438\n",
      "Epoch 3/50\n",
      "1562/1562 [==============================] - 27s 18ms/step - loss: 0.4094 - accuracy: 0.8647 - val_loss: 0.4649 - val_accuracy: 0.8507\n",
      "Epoch 4/50\n",
      "1562/1562 [==============================] - 27s 17ms/step - loss: 0.3784 - accuracy: 0.8732 - val_loss: 0.4300 - val_accuracy: 0.8629\n",
      "Epoch 5/50\n",
      "1562/1562 [==============================] - 27s 17ms/step - loss: 0.3628 - accuracy: 0.8792 - val_loss: 0.4366 - val_accuracy: 0.8611\n",
      "Epoch 6/50\n",
      "1562/1562 [==============================] - 27s 17ms/step - loss: 0.3452 - accuracy: 0.8834 - val_loss: 0.4672 - val_accuracy: 0.8493\n",
      "Epoch 7/50\n",
      "1562/1562 [==============================] - 28s 18ms/step - loss: 0.3373 - accuracy: 0.8852 - val_loss: 0.4896 - val_accuracy: 0.8472\n",
      "Epoch 8/50\n",
      "1562/1562 [==============================] - 28s 18ms/step - loss: 0.3257 - accuracy: 0.8906 - val_loss: 0.4483 - val_accuracy: 0.8591\n",
      "Epoch 9/50\n",
      "1562/1562 [==============================] - 28s 18ms/step - loss: 0.3157 - accuracy: 0.8935 - val_loss: 0.4312 - val_accuracy: 0.8640\n",
      "Epoch 10/50\n",
      "1562/1562 [==============================] - 28s 18ms/step - loss: 0.3054 - accuracy: 0.8964 - val_loss: 0.4507 - val_accuracy: 0.8641\n",
      "Epoch 11/50\n",
      "1562/1562 [==============================] - 29s 18ms/step - loss: 0.2974 - accuracy: 0.8991 - val_loss: 0.4500 - val_accuracy: 0.8622\n",
      "Epoch 12/50\n",
      "1562/1562 [==============================] - 28s 18ms/step - loss: 0.2912 - accuracy: 0.9015 - val_loss: 0.4182 - val_accuracy: 0.8709\n",
      "Epoch 13/50\n",
      "1562/1562 [==============================] - 28s 18ms/step - loss: 0.2773 - accuracy: 0.9069 - val_loss: 0.4520 - val_accuracy: 0.8617\n",
      "Epoch 14/50\n",
      "1562/1562 [==============================] - 28s 18ms/step - loss: 0.2767 - accuracy: 0.9045 - val_loss: 0.4489 - val_accuracy: 0.8608\n",
      "Epoch 15/50\n",
      "1562/1562 [==============================] - 28s 18ms/step - loss: 0.2722 - accuracy: 0.9068 - val_loss: 0.4176 - val_accuracy: 0.8704\n",
      "Epoch 16/50\n",
      "1562/1562 [==============================] - 28s 18ms/step - loss: 0.2635 - accuracy: 0.9097 - val_loss: 0.3994 - val_accuracy: 0.8721\n",
      "Epoch 17/50\n",
      "1562/1562 [==============================] - 28s 18ms/step - loss: 0.2589 - accuracy: 0.9126 - val_loss: 0.4306 - val_accuracy: 0.8739\n",
      "Epoch 18/50\n",
      "1562/1562 [==============================] - 29s 18ms/step - loss: 0.2472 - accuracy: 0.9159 - val_loss: 0.4294 - val_accuracy: 0.8753\n",
      "Epoch 19/50\n",
      "1562/1562 [==============================] - 28s 18ms/step - loss: 0.2441 - accuracy: 0.9175 - val_loss: 0.4358 - val_accuracy: 0.8656\n",
      "Epoch 20/50\n",
      "1562/1562 [==============================] - 28s 18ms/step - loss: 0.2418 - accuracy: 0.9169 - val_loss: 0.4350 - val_accuracy: 0.8709\n",
      "Epoch 21/50\n",
      "1562/1562 [==============================] - 28s 18ms/step - loss: 0.2422 - accuracy: 0.9184 - val_loss: 0.3988 - val_accuracy: 0.8729\n",
      "Epoch 22/50\n",
      "1562/1562 [==============================] - 27s 18ms/step - loss: 0.2372 - accuracy: 0.9202 - val_loss: 0.4230 - val_accuracy: 0.8758\n",
      "Epoch 23/50\n",
      "1562/1562 [==============================] - 28s 18ms/step - loss: 0.2293 - accuracy: 0.9220 - val_loss: 0.4120 - val_accuracy: 0.8707\n",
      "Epoch 24/50\n",
      "1562/1562 [==============================] - 28s 18ms/step - loss: 0.2264 - accuracy: 0.9225 - val_loss: 0.4179 - val_accuracy: 0.8717\n",
      "Epoch 25/50\n",
      "1562/1562 [==============================] - 28s 18ms/step - loss: 0.2221 - accuracy: 0.9251 - val_loss: 0.4091 - val_accuracy: 0.8733\n",
      "Epoch 26/50\n",
      "1562/1562 [==============================] - 28s 18ms/step - loss: 0.2158 - accuracy: 0.9264 - val_loss: 0.4303 - val_accuracy: 0.8722\n",
      "Epoch 27/50\n",
      "1562/1562 [==============================] - 28s 18ms/step - loss: 0.2137 - accuracy: 0.9283 - val_loss: 0.4140 - val_accuracy: 0.8772\n",
      "Epoch 28/50\n",
      "1562/1562 [==============================] - 28s 18ms/step - loss: 0.2120 - accuracy: 0.9281 - val_loss: 0.4323 - val_accuracy: 0.8704\n",
      "Epoch 29/50\n",
      "1562/1562 [==============================] - 28s 18ms/step - loss: 0.2022 - accuracy: 0.9317 - val_loss: 0.3947 - val_accuracy: 0.8819\n",
      "Epoch 30/50\n",
      "1562/1562 [==============================] - 28s 18ms/step - loss: 0.2071 - accuracy: 0.9299 - val_loss: 0.4191 - val_accuracy: 0.8725\n",
      "Epoch 31/50\n",
      "1562/1562 [==============================] - 28s 18ms/step - loss: 0.2020 - accuracy: 0.9305 - val_loss: 0.3993 - val_accuracy: 0.8775\n",
      "Epoch 32/50\n",
      "1562/1562 [==============================] - 28s 18ms/step - loss: 0.2002 - accuracy: 0.9325 - val_loss: 0.4148 - val_accuracy: 0.8675\n",
      "Epoch 33/50\n",
      "1562/1562 [==============================] - 28s 18ms/step - loss: 0.2013 - accuracy: 0.9320 - val_loss: 0.4562 - val_accuracy: 0.8644\n",
      "Epoch 34/50\n",
      "1562/1562 [==============================] - 28s 18ms/step - loss: 0.1969 - accuracy: 0.9331 - val_loss: 0.4279 - val_accuracy: 0.8783\n",
      "Epoch 35/50\n",
      "1562/1562 [==============================] - 28s 18ms/step - loss: 0.1925 - accuracy: 0.9351 - val_loss: 0.4260 - val_accuracy: 0.8813\n",
      "Epoch 36/50\n",
      "1562/1562 [==============================] - 28s 18ms/step - loss: 0.1888 - accuracy: 0.9364 - val_loss: 0.4203 - val_accuracy: 0.8778\n",
      "Epoch 37/50\n",
      "1562/1562 [==============================] - 28s 18ms/step - loss: 0.1877 - accuracy: 0.9361 - val_loss: 0.4544 - val_accuracy: 0.8724\n",
      "Epoch 38/50\n",
      "1562/1562 [==============================] - 28s 18ms/step - loss: 0.1864 - accuracy: 0.9366 - val_loss: 0.4391 - val_accuracy: 0.8765\n",
      "Epoch 39/50\n",
      "1562/1562 [==============================] - 28s 18ms/step - loss: 0.1843 - accuracy: 0.9369 - val_loss: 0.4214 - val_accuracy: 0.8831\n",
      "Epoch 40/50\n",
      "1562/1562 [==============================] - 28s 18ms/step - loss: 0.1823 - accuracy: 0.9379 - val_loss: 0.4542 - val_accuracy: 0.8725\n",
      "Epoch 41/50\n",
      "1562/1562 [==============================] - 28s 18ms/step - loss: 0.1830 - accuracy: 0.9397 - val_loss: 0.4298 - val_accuracy: 0.8789\n",
      "Epoch 42/50\n",
      "1562/1562 [==============================] - 28s 18ms/step - loss: 0.1789 - accuracy: 0.9385 - val_loss: 0.4391 - val_accuracy: 0.8789\n",
      "Epoch 43/50\n",
      "1562/1562 [==============================] - 28s 18ms/step - loss: 0.1798 - accuracy: 0.9402 - val_loss: 0.4354 - val_accuracy: 0.8804\n",
      "Epoch 44/50\n",
      "1562/1562 [==============================] - 28s 18ms/step - loss: 0.1735 - accuracy: 0.9420 - val_loss: 0.4759 - val_accuracy: 0.8766\n",
      "Epoch 45/50\n",
      "1562/1562 [==============================] - 28s 18ms/step - loss: 0.1727 - accuracy: 0.9413 - val_loss: 0.4297 - val_accuracy: 0.8807\n",
      "Epoch 46/50\n",
      "1562/1562 [==============================] - 28s 18ms/step - loss: 0.1710 - accuracy: 0.9422 - val_loss: 0.4044 - val_accuracy: 0.8863\n",
      "Epoch 47/50\n",
      "1562/1562 [==============================] - 28s 18ms/step - loss: 0.1682 - accuracy: 0.9427 - val_loss: 0.4111 - val_accuracy: 0.8866\n",
      "Epoch 48/50\n",
      "1562/1562 [==============================] - 28s 18ms/step - loss: 0.1640 - accuracy: 0.9438 - val_loss: 0.4370 - val_accuracy: 0.8826\n",
      "Epoch 49/50\n",
      "1562/1562 [==============================] - 28s 18ms/step - loss: 0.1667 - accuracy: 0.9452 - val_loss: 0.4513 - val_accuracy: 0.8725\n",
      "Epoch 50/50\n",
      "1562/1562 [==============================] - 28s 18ms/step - loss: 0.1630 - accuracy: 0.9447 - val_loss: 0.4673 - val_accuracy: 0.8788\n"
     ]
    }
   ],
   "source": [
    "batch_size = 32\n",
    "data_generator = tf.keras.preprocessing.image.ImageDataGenerator(width_shift_range=0.1, height_shift_range=0.1, horizontal_flip=True)\n",
    "train_generator = data_generator.flow(x_train, y_train, batch_size)\n",
    "steps_per_epoch = x_train.shape[0] // batch_size\n",
    "r = model.fit_generator(train_generator, validation_data=(x_test, y_test), steps_per_epoch=steps_per_epoch, epochs=50)"
   ]
  },
  {
   "cell_type": "code",
   "execution_count": null,
   "metadata": {
    "colab": {
     "base_uri": "https://localhost:8080/"
    },
    "id": "rREVkpCKifLX",
    "outputId": "cb497bbc-f887-4ad3-8dc0-984ab064563e"
   },
   "outputs": [
    {
     "name": "stdout",
     "output_type": "stream",
     "text": [
      "313/313 [==============================] - 1s 3ms/step - loss: 0.4673 - accuracy: 0.8788\n"
     ]
    }
   ],
   "source": [
    "test_loss, test_accuracy = model.evaluate(x_test, y_test)"
   ]
  },
  {
   "cell_type": "code",
   "execution_count": null,
   "metadata": {
    "colab": {
     "base_uri": "https://localhost:8080/"
    },
    "id": "wt94EVlViWWB",
    "outputId": "237c1b27-daa1-43aa-fd69-8718c06ca660"
   },
   "outputs": [
    {
     "name": "stdout",
     "output_type": "stream",
     "text": [
      "Test accuracy: 0.8787999749183655\n"
     ]
    }
   ],
   "source": [
    "print(\"Test accuracy: {}\".format(test_accuracy))"
   ]
  },
  {
   "cell_type": "code",
   "execution_count": null,
   "metadata": {
    "colab": {
     "base_uri": "https://localhost:8080/"
    },
    "id": "ynzw9o5Xirod",
    "outputId": "95b2fab2-46b0-4807-931a-2d510dcc6b03"
   },
   "outputs": [
    {
     "name": "stdout",
     "output_type": "stream",
     "text": [
      "Test LOSS: 0.4672577977180481\n"
     ]
    }
   ],
   "source": [
    "print(\"Test LOSS: {}\".format(test_loss))"
   ]
  },
  {
   "cell_type": "code",
   "execution_count": null,
   "metadata": {
    "colab": {
     "base_uri": "https://localhost:8080/"
    },
    "id": "9VlpEx9civvY",
    "outputId": "e03f2e84-9072-41a2-ee7d-9e18b6b15213"
   },
   "outputs": [
    {
     "name": "stdout",
     "output_type": "stream",
     "text": [
      "0.8788\n"
     ]
    }
   ],
   "source": [
    "y_predicted = model.predict(x_test)\n",
    "from sklearn import metrics\n",
    "print(metrics.accuracy_score (y_test, np.argmax(y_predicted, axis = 1)))"
   ]
  },
  {
   "cell_type": "code",
   "execution_count": null,
   "metadata": {
    "colab": {
     "base_uri": "https://localhost:8080/"
    },
    "id": "QqPviO1ii4E8",
    "outputId": "718fc132-a70b-4d95-bf24-40f6b38063f4"
   },
   "outputs": [
    {
     "name": "stdout",
     "output_type": "stream",
     "text": [
      "              precision    recall  f1-score   support\n",
      "\n",
      "           0       0.88      0.91      0.90      1000\n",
      "           1       0.96      0.94      0.95      1000\n",
      "           2       0.89      0.79      0.84      1000\n",
      "           3       0.77      0.77      0.77      1000\n",
      "           4       0.87      0.87      0.87      1000\n",
      "           5       0.87      0.77      0.82      1000\n",
      "           6       0.77      0.97      0.86      1000\n",
      "           7       0.94      0.91      0.93      1000\n",
      "           8       0.94      0.92      0.93      1000\n",
      "           9       0.93      0.93      0.93      1000\n",
      "\n",
      "    accuracy                           0.88     10000\n",
      "   macro avg       0.88      0.88      0.88     10000\n",
      "weighted avg       0.88      0.88      0.88     10000\n",
      "\n"
     ]
    }
   ],
   "source": [
    "print(metrics.classification_report (y_test, np.argmax(y_predicted, axis = 1)))"
   ]
  },
  {
   "cell_type": "markdown",
   "metadata": {
    "id": "t9KR61H6bFxv"
   },
   "source": [
    "Let's plot Loss"
   ]
  },
  {
   "cell_type": "code",
   "execution_count": null,
   "metadata": {
    "colab": {
     "base_uri": "https://localhost:8080/",
     "height": 337
    },
    "id": "JhUs1sg-bGlG",
    "outputId": "6551870b-1d25-414f-f268-a1daa6561702"
   },
   "outputs": [
    {
     "data": {
      "text/plain": [
       "<matplotlib.legend.Legend at 0x7f7474416350>"
      ]
     },
     "execution_count": 12,
     "metadata": {
      "tags": []
     },
     "output_type": "execute_result"
    },
    {
     "data": {
      "image/png": "[encoded data removed]",
      "text/plain": [
       "<Figure size 720x360 with 1 Axes>"
      ]
     },
     "metadata": {
      "needs_background": "light",
      "tags": []
     },
     "output_type": "display_data"
    }
   ],
   "source": [
    "# Plot loss per iteration\n",
    "import matplotlib.pyplot as plt\n",
    "plt.rcParams['figure.figsize'] = [10,5]\n",
    "plt.plot(r.history['loss'], label='loss')\n",
    "plt.plot(r.history['val_loss'], label='val_loss')\n",
    "plt.legend()"
   ]
  },
  {
   "cell_type": "markdown",
   "metadata": {
    "id": "TuxKnP2Db6aE"
   },
   "source": [
    "Let's plot Accuracy"
   ]
  },
  {
   "cell_type": "code",
   "execution_count": null,
   "metadata": {
    "colab": {
     "base_uri": "https://localhost:8080/",
     "height": 337
    },
    "id": "GXgIwoJvbLZF",
    "outputId": "ea0acf31-32e1-420b-ff12-9dda142c9f28"
   },
   "outputs": [
    {
     "data": {
      "text/plain": [
       "<matplotlib.legend.Legend at 0x7f7474379a50>"
      ]
     },
     "execution_count": 0,
     "metadata": {
      "tags": []
     },
     "output_type": "execute_result"
    },
    {
     "data": {
      "image/png": "[encoded data removed]",
      "text/plain": [
       "<Figure size 720x360 with 1 Axes>"
      ]
     },
     "metadata": {
      "tags": []
     },
     "output_type": "display_data"
    }
   ],
   "source": [
    "# Plot accuracy per iteration\n",
    "plt.plot(r.history['accuracy'], label='acc')\n",
    "plt.plot(r.history['val_accuracy'], label='val_acc')\n",
    "plt.legend()"
   ]
  },
  {
   "cell_type": "markdown",
   "metadata": {
    "id": "XQp4JdBTb_ok"
   },
   "source": [
    "Now plot the confusion matrix"
   ]
  },
  {
   "cell_type": "code",
   "execution_count": null,
   "metadata": {
    "colab": {
     "base_uri": "https://localhost:8080/",
     "height": 712
    },
    "id": "XUqO-dVqb8Fn",
    "outputId": "54c4c908-b8de-43e8-a5b0-d5d7ea5b3ef7"
   },
   "outputs": [
    {
     "name": "stdout",
     "output_type": "stream",
     "text": [
      "Confusion matrix, without normalization\n",
      "[[907   5  16   7   8   3  11   4  27  12]\n",
      " [  7 945   1   1   0   0   7   1   9  29]\n",
      " [ 31   0 794  28  37  20  72  11   4   3]\n",
      " [ 11   2  18 767  31  60  90  14   4   3]\n",
      " [  8   1  21  25 866  15  48  14   1   1]\n",
      " [  6   0  17 119  26 774  39  13   3   3]\n",
      " [  3   1  10  12   3   0 970   1   0   0]\n",
      " [  8   0  11  22  22  12  10 913   0   2]\n",
      " [ 30   7   2   7   2   2   8   1 924  17]\n",
      " [ 15  28   2   4   1   1  12   1   8 928]]\n"
     ]
    },
    {
     "data": {
      "image/png": "[encoded data removed]",
      "text/plain": [
       "<Figure size 720x504 with 2 Axes>"
      ]
     },
     "metadata": {
      "needs_background": "light",
      "tags": []
     },
     "output_type": "display_data"
    }
   ],
   "source": [
    "# Plot confusion matrix\n",
    "from sklearn.metrics import confusion_matrix\n",
    "import itertools\n",
    "plt.rcParams['figure.figsize'] = [10,7]\n",
    "\n",
    "def plot_confusion_matrix(cm, classes,\n",
    "                          normalize=False,\n",
    "                          title='Confusion matrix',\n",
    "                          cmap=plt.cm.Blues):\n",
    "\n",
    "  if normalize:\n",
    "      cm = cm.astype('float') / cm.sum(axis=1)[:, np.newaxis]\n",
    "      print(\"Normalized confusion matrix\")\n",
    "  else:\n",
    "      print('Confusion matrix, without normalization')\n",
    "\n",
    "  print(cm)\n",
    "\n",
    "  plt.imshow(cm, interpolation='nearest', cmap=cmap)\n",
    "  plt.title(title)\n",
    "  plt.colorbar()\n",
    "  tick_marks = np.arange(len(classes))\n",
    "  plt.xticks(tick_marks, classes, rotation=45)\n",
    "  plt.yticks(tick_marks, classes)\n",
    "\n",
    "  fmt = '.2f' if normalize else 'd'\n",
    "  thresh = cm.max() / 2.\n",
    "  for i, j in itertools.product(range(cm.shape[0]), range(cm.shape[1])):\n",
    "      plt.text(j, i, format(cm[i, j], fmt),\n",
    "               horizontalalignment=\"center\",\n",
    "               color=\"white\" if cm[i, j] > thresh else \"black\")\n",
    "\n",
    "  plt.tight_layout()\n",
    "  plt.ylabel('True label')\n",
    "  plt.xlabel('Predicted label')\n",
    "  plt.show()\n",
    "\n",
    "\n",
    "p_test = model.predict(x_test).argmax(axis=1)\n",
    "cm = confusion_matrix(y_test, p_test)\n",
    "plot_confusion_matrix(cm, list(range(10)))\n"
   ]
  },
  {
   "cell_type": "markdown",
   "metadata": {
    "id": "j85i0s59cNCx"
   },
   "source": [
    "Define the Labels"
   ]
  },
  {
   "cell_type": "code",
   "execution_count": null,
   "metadata": {
    "id": "1jzNVbwrcOL0"
   },
   "outputs": [],
   "source": [
    "labels = '''airplane\n",
    "automobile\n",
    "bird\n",
    "cat\n",
    "deer\n",
    "dog\n",
    "frog\n",
    "horse\n",
    "ship\n",
    "truck'''.split()"
   ]
  },
  {
   "cell_type": "markdown",
   "metadata": {
    "id": "MppYSJvDcRC0"
   },
   "source": [
    "Check the Right predictions"
   ]
  },
  {
   "cell_type": "code",
   "execution_count": null,
   "metadata": {
    "colab": {
     "base_uri": "https://localhost:8080/",
     "height": 444
    },
    "id": "c9gTC0ErcTLY",
    "outputId": "4c57eac7-d4cd-4dc1-efca-79d30835f5f3"
   },
   "outputs": [
    {
     "data": {
      "image/png": "[encoded data removed]",
      "text/plain": [
       "<Figure size 720x504 with 1 Axes>"
      ]
     },
     "metadata": {
      "needs_background": "light",
      "tags": []
     },
     "output_type": "display_data"
    }
   ],
   "source": [
    "misclassified_idx = np.where(p_test == y_test)[0]\n",
    "i = np.random.choice(misclassified_idx)\n",
    "plt.imshow(x_test[i], cmap='gray')\n",
    "plt.title(\"True label: %s Predicted: %s\" % (labels[y_test[i]], labels[p_test[i]]));"
   ]
  },
  {
   "cell_type": "markdown",
   "metadata": {
    "id": "Fgu0t-Jwcg8q"
   },
   "source": [
    "Check the wrong predictions"
   ]
  },
  {
   "cell_type": "code",
   "execution_count": null,
   "metadata": {
    "colab": {
     "base_uri": "https://localhost:8080/",
     "height": 444
    },
    "id": "hGmYnKjEchdJ",
    "outputId": "47c02eb0-3cb9-4de3-d376-383b5da47366"
   },
   "outputs": [
    {
     "data": {
      "image/png": "[encoded data removed]",
      "text/plain": [
       "<Figure size 720x504 with 1 Axes>"
      ]
     },
     "metadata": {
      "needs_background": "light",
      "tags": []
     },
     "output_type": "display_data"
    }
   ],
   "source": [
    "misclassified_idx = np.where(p_test != y_test)[0]\n",
    "i = np.random.choice(misclassified_idx)\n",
    "plt.imshow(x_test[i], cmap='gray')\n",
    "plt.title(\"True label: %s Predicted: %s\" % (labels[y_test[i]], labels[p_test[i]]));"
   ]
  },
  {
   "cell_type": "code",
   "execution_count": null,
   "metadata": {
    "id": "FLft-Ukbhl3U"
   },
   "outputs": [],
   "source": []
  }
 ],
 "metadata": {
  "accelerator": "GPU",
  "colab": {
   "collapsed_sections": [],
   "name": "Deployment_Dl.ipynb",
   "provenance": []
  },
  "kernelspec": {
   "display_name": "Python 3",
   "language": "python",
   "name": "python3"
  },
  "language_info": {
   "codemirror_mode": {
    "name": "ipython",
    "version": 3
   },
   "file_extension": ".py",
   "mimetype": "text/x-python",
   "name": "python",
   "nbconvert_exporter": "python",
   "pygments_lexer": "ipython3",
   "version": "3.7.3"
  }
 },
 "nbformat": 4,
 "nbformat_minor": 1
}
